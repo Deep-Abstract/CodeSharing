{
 "cells": [
  {
   "cell_type": "markdown",
   "metadata": {
    "extensions": {
     "jupyter_dashboards": {
      "version": 1,
      "views": {
       "grid_default": {
        "col": 0,
        "height": 37,
        "hidden": false,
        "row": 0,
        "width": 12
       },
       "report_default": {}
      }
     }
    }
   },
   "source": [
    "# 智慧校园选拔题目 #\n",
    "----------------------------------\n",
    "- 语言: [Python](https://docs.python.org/3/)\n",
    "- Web框架: [flask](http://flask.pocoo.org/docs/0.12/)\n",
    "- 模板: [Jinja2](http://jinja.pocoo.org/docs/2.10/)\n",
    "- 数据库: [mysql](https://dev.mysql.com/doc/refman/5.7/en/)\n",
    "- css主要样式: [materializecss](http://materializecss.com/)\n",
    "\n",
    "__选择任意以下方向下的一题或多题完成__\n",
    "### Python ###\n",
    "----------------------------------\n",
    "\n",
    "1. 在已有成绩数据的情况下, 完成一个简单的计算期末绩点的函数\n",
    "2. 自动化爬取教务处个人成绩, 完成一个计算期末绩点的程序\n",
    "\n",
    "\n",
    "### flask ###\n",
    "----------------------------------\n",
    "\n",
    "\n",
    "1. 完成一个简单的Web应用, 计算两个数的除法(url触发函数), 在除数为0时重定向到错误页面\n",
    "2. 完成一个Web应用, 在已有个人课表数据的情况下返回当天的课程\n",
    "\n",
    "### 关系数据库 ###\n",
    "-----------------------------------\n",
    "1. 自由设计学生(user), 群组(group), 活动(activity)表的设计, 能够反应学生, 群组, 活动三者的关系\n",
    "2. 自由设计用户(user)表的设计, 用户包含学生(学号, 姓名, 性别, 密码, 电话, 住址...), 老师(工号, 姓名, 性别, 密码, 邮箱, 办公室...), 家长(姓名, 联系方式...)要求解决冲突字段.\n",
    "\n",
    "### 前端 ###\n",
    "------------------------------------\n",
    "1. 在已有课表数据的情况下, 自由设计显示课表的网页, 确保能够正确, 统一的显示\n",
    "2. 使用Jinja2模板设计课表, 传入的参数为week_course, 要求能够正确, 统一的显示\n",
    "        week_course = [\n",
    "            [course, ...],\n",
    "            ...\n",
    "        ]\n",
    "        course:\n",
    "            name  # 课程名\n",
    "            teacher  # 老师名\n",
    "            loc  # 上课地点\n",
    "            week  # 周次"
   ]
  },
  {
   "cell_type": "code",
   "execution_count": null,
   "metadata": {
    "extensions": {
     "jupyter_dashboards": {
      "version": 1,
      "views": {
       "grid_default": {
        "hidden": true
       },
       "report_default": {}
      }
     }
    }
   },
   "outputs": [],
   "source": []
  }
 ],
 "metadata": {
  "extensions": {
   "jupyter_dashboards": {
    "activeView": "grid_default",
    "version": 1,
    "views": {
     "grid_default": {
      "cellMargin": 10,
      "defaultCellHeight": 20,
      "maxColumns": 12,
      "name": "grid",
      "type": "grid"
     },
     "report_default": {
      "name": "report",
      "type": "report"
     }
    }
   }
  },
  "hide_input": false,
  "kernelspec": {
   "display_name": "Python 3",
   "language": "python",
   "name": "python3"
  },
  "language_info": {
   "codemirror_mode": {
    "name": "ipython",
    "version": 3
   },
   "file_extension": ".py",
   "mimetype": "text/x-python",
   "name": "python",
   "nbconvert_exporter": "python",
   "pygments_lexer": "ipython3",
   "version": "3.6.1"
  }
 },
 "nbformat": 4,
 "nbformat_minor": 2
}
